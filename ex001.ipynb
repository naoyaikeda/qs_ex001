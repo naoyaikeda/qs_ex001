{
 "cells": [
  {
   "cell_type": "code",
   "execution_count": 1,
   "metadata": {},
   "outputs": [
    {
     "data": {
      "application/json": "[\"HelloQ\"]",
      "text/html": [
       "<ul><li>HelloQ</li></ul>"
      ],
      "text/plain": [
       "HelloQ"
      ]
     },
     "execution_count": 1,
     "metadata": {},
     "output_type": "execute_result"
    }
   ],
   "source": [
    "open Microsoft.Quantum.Extensions.Diagnostics;\n",
    "operation HelloQ() : Unit {\n",
    "    mutable result = Zero;\n",
    "    using(q = Qubit()) {\n",
    "        H(q);\n",
    "        DumpMachine();\n",
    "        set result = M(q);\n",
    "        Reset(q);\n",
    "    }\n",
    "    Message($\"Result: {result}.\");\n",
    "}"
   ]
  },
  {
   "cell_type": "code",
   "execution_count": 2,
   "metadata": {},
   "outputs": [
    {
     "name": "stderr",
     "output_type": "stream",
     "text": [
      "/snippet:(5,5): error QS5022: No identifier with that name exists.\n",
      "/snippet:(9,12): error QS6211: Unexpected argument tuple. Expecting an argument of type String.\n"
     ]
    }
   ],
   "source": [
    "operation InvalidQ() : Unit {\n",
    "\n",
    "    // The `FooBar` operation doesn't exist, so the following line\n",
    "    // will generate a `No variable with that name exists.` error:\n",
    "    FooBar(\"Hello again!\");\n",
    "    \n",
    "    // `Message` takes only one string argument, so the following line\n",
    "    // will generate a `Unexpected argument tuple.` error:\n",
    "    Message(1, 2);\n",
    "}"
   ]
  },
  {
   "cell_type": "code",
   "execution_count": 3,
   "metadata": {},
   "outputs": [
    {
     "name": "stderr",
     "output_type": "stream",
     "text": [
      "/snippet:(2,11): error QS6210: The type of the given argument does not match the expected type. Got an argument of type String, expecting one of type Unit instead.\n"
     ]
    }
   ],
   "source": [
    "operation HelloAndres() : Unit {\n",
    "    HelloQ(\"Andres\");\n",
    "}"
   ]
  },
  {
   "cell_type": "code",
   "execution_count": 4,
   "metadata": {},
   "outputs": [
    {
     "data": {
      "application/json": "[\"HelloQ\"]",
      "text/html": [
       "<ul><li>HelloQ</li></ul>"
      ],
      "text/plain": [
       "HelloQ"
      ]
     },
     "execution_count": 4,
     "metadata": {},
     "output_type": "execute_result"
    }
   ],
   "source": [
    "operation HelloQ(name: String) : Unit {\n",
    "\n",
    "    // The following line will simply write a message to the console:\n",
    "    Message($\"Hello {name}!\");\n",
    "\n",
    "}"
   ]
  },
  {
   "cell_type": "code",
   "execution_count": 5,
   "metadata": {},
   "outputs": [
    {
     "data": {
      "application/json": "[\"HelloAndres\"]",
      "text/html": [
       "<ul><li>HelloAndres</li></ul>"
      ],
      "text/plain": [
       "HelloAndres"
      ]
     },
     "execution_count": 5,
     "metadata": {},
     "output_type": "execute_result"
    }
   ],
   "source": [
    "operation HelloAndres() : Unit {\n",
    "    HelloQ(\"Andres\");\n",
    "}"
   ]
  },
  {
   "cell_type": "code",
   "execution_count": 6,
   "metadata": {},
   "outputs": [
    {
     "data": {
      "application/json": "[\"HelloPi\"]",
      "text/html": [
       "<ul><li>HelloPi</li></ul>"
      ],
      "text/plain": [
       "HelloPi"
      ]
     },
     "execution_count": 6,
     "metadata": {},
     "output_type": "execute_result"
    }
   ],
   "source": [
    "open Microsoft.Quantum.Math;\n",
    "\n",
    "operation HelloPi() : Unit {\n",
    "    let pi = Microsoft.Quantum.Convert.DoubleAsString(PI());\n",
    "    HelloQ(pi);\n",
    "}"
   ]
  },
  {
   "cell_type": "code",
   "execution_count": 7,
   "metadata": {},
   "outputs": [
    {
     "data": {
      "application/json": "[\"PrepareRandomMessage\",\"SetMinus\",\"SetPlus\"]",
      "text/html": [
       "<ul><li>PrepareRandomMessage</li><li>SetMinus</li><li>SetPlus</li></ul>"
      ],
      "text/plain": [
       "PrepareRandomMessage, SetMinus, SetPlus"
      ]
     },
     "execution_count": 7,
     "metadata": {},
     "output_type": "execute_result"
    }
   ],
   "source": [
    "\n",
    "\n",
    "open Microsoft.Quantum.Math;\n",
    "\n",
    "/// # Summary\n",
    "/// Sets the qubit's state to |+⟩\n",
    "operation SetPlus(q: Qubit) : Unit {\n",
    "    Reset(q);\n",
    "    H(q);\n",
    "}\n",
    "\n",
    "/// # Summary\n",
    "/// Sets the qubit's state to |-⟩\n",
    "operation SetMinus(q: Qubit) : Unit {\n",
    "    Reset(q);\n",
    "    X(q);\n",
    "    H(q);\n",
    "}\n",
    "\n",
    "/// # Summary\n",
    "/// Randomly prepares the qubit into |+⟩ or |-⟩\n",
    "operation PrepareRandomMessage(q: Qubit) : Unit {\n",
    "\n",
    "    let choice = RandomInt(2);\n",
    "\n",
    "    if (choice == 0) {\n",
    "        Message(\"Prepared |-⟩\");\n",
    "        SetMinus(q);\n",
    "    } else {\n",
    "        Message(\"Prepared |+⟩\");\n",
    "        SetPlus(q);\n",
    "    }\n",
    "}"
   ]
  },
  {
   "cell_type": "code",
   "execution_count": 8,
   "metadata": {},
   "outputs": [
    {
     "data": {
      "application/json": "[\"NextRandomBit\",\"TestPrepareQubits\"]",
      "text/html": [
       "<ul><li>NextRandomBit</li><li>TestPrepareQubits</li></ul>"
      ],
      "text/plain": [
       "NextRandomBit, TestPrepareQubits"
      ]
     },
     "execution_count": 8,
     "metadata": {},
     "output_type": "execute_result"
    }
   ],
   "source": [
    "open Microsoft.Quantum.Diagnostics;\n",
    "open Microsoft.Quantum.Measurement;\n",
    "\n",
    "operation NextRandomBit() : Result {\n",
    "    using (q = Qubit()) {\n",
    "        SetPlus(q);\n",
    "        return MResetZ(q);\n",
    "    }\n",
    "}\n",
    "\n",
    "operation TestPrepareQubits() : Result {\n",
    "    mutable r = Zero;\n",
    "    \n",
    "    using (qubits = Qubit[5]) {\n",
    "        ApplyToEach(PrepareRandomMessage, qubits);\n",
    "        DumpMachine();\n",
    "        \n",
    "        set r = Measure([PauliX, PauliX, PauliX, PauliX, PauliX], qubits);\n",
    "        \n",
    "        ResetAll(qubits);\n",
    "    }\n",
    "    \n",
    "    return r;\n",
    "}"
   ]
  },
  {
   "cell_type": "code",
   "execution_count": 9,
   "metadata": {},
   "outputs": [
    {
     "name": "stdout",
     "output_type": "stream",
     "text": [
      "Hello 3.14159265358979!\n"
     ]
    },
    {
     "data": {
      "application/json": "{\"@type\":\"tuple\"}",
      "text/plain": [
       "()"
      ]
     },
     "execution_count": 9,
     "metadata": {},
     "output_type": "execute_result"
    }
   ],
   "source": [
    "%simulate HelloPi"
   ]
  },
  {
   "cell_type": "code",
   "execution_count": 10,
   "metadata": {},
   "outputs": [
    {
     "data": {
      "application/json": "0",
      "text/plain": [
       "Zero"
      ]
     },
     "execution_count": 10,
     "metadata": {},
     "output_type": "execute_result"
    }
   ],
   "source": [
    "%simulate NextRandomBit"
   ]
  },
  {
   "cell_type": "code",
   "execution_count": 11,
   "metadata": {},
   "outputs": [
    {
     "data": {
      "application/json": "0",
      "text/plain": [
       "Zero"
      ]
     },
     "execution_count": 11,
     "metadata": {},
     "output_type": "execute_result"
    }
   ],
   "source": [
    "%simulate NextRandomBit"
   ]
  },
  {
   "cell_type": "code",
   "execution_count": 12,
   "metadata": {},
   "outputs": [
    {
     "data": {
      "application/json": "1",
      "text/plain": [
       "One"
      ]
     },
     "execution_count": 12,
     "metadata": {},
     "output_type": "execute_result"
    }
   ],
   "source": [
    "%simulate NextRandomBit"
   ]
  },
  {
   "cell_type": "code",
   "execution_count": 13,
   "metadata": {},
   "outputs": [
    {
     "name": "stdout",
     "output_type": "stream",
     "text": [
      "Prepared |-⟩\n",
      "Prepared |+⟩\n",
      "Prepared |-⟩\n",
      "Prepared |-⟩\n",
      "Prepared |-⟩\n",
      "# wave function for qubits with ids (least to most significant): 0;1;2;3;4\n",
      "∣ 0❭:\t 0.176777 +  0.000000 i\t == \t*                    [ 0.031250 ]     --- [  0.00000 rad ]\n",
      "∣ 1❭:\t-0.176777 +  0.000000 i\t == \t*                    [ 0.031250 ] ---     [  3.14159 rad ]\n",
      "∣ 2❭:\t 0.176777 +  0.000000 i\t == \t*                    [ 0.031250 ]     --- [  0.00000 rad ]\n",
      "∣ 3❭:\t-0.176777 +  0.000000 i\t == \t*                    [ 0.031250 ] ---     [  3.14159 rad ]\n",
      "∣ 4❭:\t-0.176777 +  0.000000 i\t == \t*                    [ 0.031250 ] ---     [  3.14159 rad ]\n",
      "∣ 5❭:\t 0.176777 +  0.000000 i\t == \t*                    [ 0.031250 ]     --- [  0.00000 rad ]\n",
      "∣ 6❭:\t-0.176777 +  0.000000 i\t == \t*                    [ 0.031250 ] ---     [  3.14159 rad ]\n",
      "∣ 7❭:\t 0.176777 +  0.000000 i\t == \t*                    [ 0.031250 ]     --- [  0.00000 rad ]\n",
      "∣ 8❭:\t-0.176777 +  0.000000 i\t == \t*                    [ 0.031250 ] ---     [  3.14159 rad ]\n",
      "∣ 9❭:\t 0.176777 +  0.000000 i\t == \t*                    [ 0.031250 ]     --- [  0.00000 rad ]\n",
      "∣10❭:\t-0.176777 +  0.000000 i\t == \t*                    [ 0.031250 ] ---     [  3.14159 rad ]\n",
      "∣11❭:\t 0.176777 +  0.000000 i\t == \t*                    [ 0.031250 ]     --- [  0.00000 rad ]\n",
      "∣12❭:\t 0.176777 +  0.000000 i\t == \t*                    [ 0.031250 ]     --- [  0.00000 rad ]\n",
      "∣13❭:\t-0.176777 +  0.000000 i\t == \t*                    [ 0.031250 ] ---     [  3.14159 rad ]\n",
      "∣14❭:\t 0.176777 +  0.000000 i\t == \t*                    [ 0.031250 ]     --- [  0.00000 rad ]\n",
      "∣15❭:\t-0.176777 +  0.000000 i\t == \t*                    [ 0.031250 ] ---     [  3.14159 rad ]\n",
      "∣16❭:\t-0.176777 +  0.000000 i\t == \t*                    [ 0.031250 ] ---     [  3.14159 rad ]\n",
      "∣17❭:\t 0.176777 +  0.000000 i\t == \t*                    [ 0.031250 ]     --- [  0.00000 rad ]\n",
      "∣18❭:\t-0.176777 +  0.000000 i\t == \t*                    [ 0.031250 ] ---     [  3.14159 rad ]\n",
      "∣19❭:\t 0.176777 +  0.000000 i\t == \t*                    [ 0.031250 ]     --- [  0.00000 rad ]\n",
      "∣20❭:\t 0.176777 +  0.000000 i\t == \t*                    [ 0.031250 ]     --- [  0.00000 rad ]\n",
      "∣21❭:\t-0.176777 +  0.000000 i\t == \t*                    [ 0.031250 ] ---     [  3.14159 rad ]\n",
      "∣22❭:\t 0.176777 +  0.000000 i\t == \t*                    [ 0.031250 ]     --- [  0.00000 rad ]\n",
      "∣23❭:\t-0.176777 +  0.000000 i\t == \t*                    [ 0.031250 ] ---     [  3.14159 rad ]\n",
      "∣24❭:\t 0.176777 +  0.000000 i\t == \t*                    [ 0.031250 ]     --- [  0.00000 rad ]\n",
      "∣25❭:\t-0.176777 +  0.000000 i\t == \t*                    [ 0.031250 ] ---     [  3.14159 rad ]\n",
      "∣26❭:\t 0.176777 +  0.000000 i\t == \t*                    [ 0.031250 ]     --- [  0.00000 rad ]\n",
      "∣27❭:\t-0.176777 +  0.000000 i\t == \t*                    [ 0.031250 ] ---     [  3.14159 rad ]\n",
      "∣28❭:\t-0.176777 +  0.000000 i\t == \t*                    [ 0.031250 ] ---     [  3.14159 rad ]\n",
      "∣29❭:\t 0.176777 +  0.000000 i\t == \t*                    [ 0.031250 ]     --- [  0.00000 rad ]\n",
      "∣30❭:\t-0.176777 +  0.000000 i\t == \t*                    [ 0.031250 ] ---     [  3.14159 rad ]\n",
      "∣31❭:\t 0.176777 +  0.000000 i\t == \t*                    [ 0.031250 ]     --- [  0.00000 rad ]\n"
     ]
    },
    {
     "data": {
      "application/json": "0",
      "text/plain": [
       "Zero"
      ]
     },
     "execution_count": 13,
     "metadata": {},
     "output_type": "execute_result"
    }
   ],
   "source": [
    "%simulate TestPrepareQubits"
   ]
  },
  {
   "cell_type": "code",
   "execution_count": 14,
   "metadata": {},
   "outputs": [
    {
     "data": {
      "application/json": "{\"CNOT\":0.0,\"QubitClifford\":10.0,\"R\":0.0,\"Measure\":11.0,\"T\":0.0,\"Depth\":0.0,\"Width\":5.0,\"BorrowedWidth\":0.0}",
      "text/html": [
       "<ul><li>[CNOT, 0]</li><li>[QubitClifford, 10]</li><li>[R, 0]</li><li>[Measure, 11]</li><li>[T, 0]</li><li>[Depth, 0]</li><li>[Width, 5]</li><li>[BorrowedWidth, 0]</li></ul>"
      ],
      "text/plain": [
       "[CNOT, 0], [QubitClifford, 10], [R, 0], [Measure, 11], [T, 0], [Depth, 0], [Width, 5], [BorrowedWidth, 0]"
      ]
     },
     "execution_count": 14,
     "metadata": {},
     "output_type": "execute_result"
    }
   ],
   "source": [
    "%estimate TestPrepareQubits"
   ]
  },
  {
   "cell_type": "code",
   "execution_count": 15,
   "metadata": {},
   "outputs": [
    {
     "data": {
      "application/json": "[]",
      "text/html": [
       "<ul></ul>"
      ],
      "text/plain": []
     },
     "execution_count": 15,
     "metadata": {},
     "output_type": "execute_result"
    }
   ],
   "source": [
    "%workspace"
   ]
  },
  {
   "cell_type": "code",
   "execution_count": 16,
   "metadata": {},
   "outputs": [
    {
     "data": {
      "application/json": "{\"name\":\"Microsoft.Quantum.Intrinsic.X\",\"kind\":1,\"source\":\"/home/gorn/.dotnet/tools/.store/microsoft.quantum.iqsharp/0.8.1907.1701/microsoft.quantum.iqsharp/0.8.1907.1701/tools/netcoreapp2.2/any/Microsoft.Quantum.Intrinsic.dll\",\"documentation\":\" # Summary\\n Applies the Pauli $X$ gate.\\n\\n \\\\begin{align}\\n     \\\\sigma_x \\\\mathrel{:=}\\n     \\\\begin{bmatrix}\\n         0 & 1 \\\\\\\\\\\\\\\\\\n         1 & 0\\n     \\\\end{bmatrix}.\\n \\\\end{align}\\n\\n # Input\\n ## qubit\\n Qubit to which the gate should be applied.\"}",
      "text/html": [
       "<h4><i class=\"fa fas fa-terminal\"></i> Microsoft.Quantum.Intrinsic.X <a href=\"/home/gorn/.dotnet/tools/.store/microsoft.quantum.iqsharp/0.8.1907.1701/microsoft.quantum.iqsharp/0.8.1907.1701/tools/netcoreapp2.2/any/Microsoft.Quantum.Intrinsic.dll\"><i class=\"fa fas fa-code\"></i></a></h4><h1>Summary</h1>\n",
       "<p>Applies the Pauli $X$ gate.</p>\n",
       "<p>\\begin{align}\n",
       "\\sigma_x \\mathrel{:=}\n",
       "\\begin{bmatrix}\n",
       "0 &amp; 1 \\\\\n",
       "1 &amp; 0\n",
       "\\end{bmatrix}.\n",
       "\\end{align}</p>\n",
       "<h1>Input</h1>\n",
       "<h2>qubit</h2>\n",
       "<p>Qubit to which the gate should be applied.</p>\n"
      ],
      "text/plain": [
       "Microsoft.Quantum.Intrinsic.X"
      ]
     },
     "execution_count": 16,
     "metadata": {},
     "output_type": "execute_result"
    }
   ],
   "source": [
    "Microsoft.Quantum.Intrinsic.X?"
   ]
  },
  {
   "cell_type": "code",
   "execution_count": 17,
   "metadata": {},
   "outputs": [
    {
     "data": {
      "application/json": "[\"HelloAndres\",\"HelloPi\",\"HelloQ\",\"NextRandomBit\",\"PrepareRandomMessage\",\"SetMinus\",\"SetPlus\",\"TestPrepareQubits\"]",
      "text/html": [
       "<ul><li>HelloAndres</li><li>HelloPi</li><li>HelloQ</li><li>NextRandomBit</li><li>PrepareRandomMessage</li><li>SetMinus</li><li>SetPlus</li><li>TestPrepareQubits</li></ul>"
      ],
      "text/plain": [
       "HelloAndres, HelloPi, HelloQ, NextRandomBit, PrepareRandomMessage, SetMinus, SetPlus, TestPrepareQubits"
      ]
     },
     "execution_count": 17,
     "metadata": {},
     "output_type": "execute_result"
    }
   ],
   "source": [
    "%who"
   ]
  },
  {
   "cell_type": "code",
   "execution_count": 18,
   "metadata": {},
   "outputs": [
    {
     "data": {
      "application/json": "[\"Microsoft.Quantum.Standard::0.8.1907.1701\"]",
      "text/html": [
       "<ul><li>Microsoft.Quantum.Standard::0.8.1907.1701</li></ul>"
      ],
      "text/plain": [
       "Microsoft.Quantum.Standard::0.8.1907.1701"
      ]
     },
     "execution_count": 18,
     "metadata": {},
     "output_type": "execute_result"
    }
   ],
   "source": [
    "%package"
   ]
  },
  {
   "cell_type": "code",
   "execution_count": 19,
   "metadata": {},
   "outputs": [
    {
     "data": {
      "application/json": "[\"Microsoft.Quantum.Standard::0.8.1907.1701\",\"Microsoft.Quantum.Chemistry::0.8.1907.1701\"]",
      "text/html": [
       "<ul><li>Microsoft.Quantum.Standard::0.8.1907.1701</li><li>Microsoft.Quantum.Chemistry::0.8.1907.1701</li></ul>"
      ],
      "text/plain": [
       "Microsoft.Quantum.Standard::0.8.1907.1701, Microsoft.Quantum.Chemistry::0.8.1907.1701"
      ]
     },
     "execution_count": 19,
     "metadata": {},
     "output_type": "execute_result"
    }
   ],
   "source": [
    "%package Microsoft.Quantum.Chemistry"
   ]
  },
  {
   "cell_type": "code",
   "execution_count": 20,
   "metadata": {},
   "outputs": [
    {
     "data": {
      "application/json": "{\"rows\":[{\"@type\":\"@tuple\",\"Item1\":\"iqsharp\",\"Item2\":\"0.8.1907.1701\"},{\"@type\":\"@tuple\",\"Item1\":\"Jupyter Core\",\"Item2\":\"1.1.14623.0\"}]}",
      "text/html": [
       "<table><thead><tr><th>Component</th><th>Version</th></tr></thead><tbody><tr><td>iqsharp</td><td>0.8.1907.1701</td></tr><tr><td>Jupyter Core</td><td>1.1.14623.0</td></tr></tbody></table>"
      ],
      "text/plain": [
       "Component    Version\n",
       "------------ -------------\n",
       "iqsharp      0.8.1907.1701\n",
       "Jupyter Core 1.1.14623.0\n"
      ]
     },
     "metadata": {},
     "output_type": "display_data"
    }
   ],
   "source": [
    "%version"
   ]
  },
  {
   "cell_type": "code",
   "execution_count": null,
   "metadata": {},
   "outputs": [],
   "source": []
  }
 ],
 "metadata": {
  "kernelspec": {
   "display_name": "Q#",
   "language": "qsharp",
   "name": "iqsharp"
  },
  "language_info": {
   "file_extension": ".qs",
   "mimetype": "text/x-qsharp",
   "name": "qsharp",
   "version": "0.4"
  }
 },
 "nbformat": 4,
 "nbformat_minor": 2
}
